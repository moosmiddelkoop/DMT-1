{
 "cells": [
  {
   "cell_type": "code",
   "execution_count": null,
   "metadata": {},
   "outputs": [],
   "source": [
    "# Dummy Features\n",
    "# Preparing Features for Analysis: Dummy-Coding, Imputation, Recombination\n",
    "\n",
    "def create_dummies(filename, ID = False):\n",
    "    class_data = pd.read_csv(filename)\n",
    "\n",
    "    # Separating numeric and categorical variables for Dummy-coding:\n",
    "    dummy_vars = ['day_of_week', 'is_weekend', 'max_screen_duration_day_part']\n",
    "    dummyfeatures = class_data[dummy_vars]\n",
    "    dummyfeatures = dummyfeatures.applymap(str)  # Converting to string to account for categorical AZ variables\n",
    "\n",
    "    # Dummy-coding categorical variables:\n",
    "    dummyfeatures = pd.get_dummies(dummyfeatures, dtype = float)\n",
    "\n",
    "    # Recombine both dfs and define target variable\n",
    "    if ID: # if we want to keep the ID column\n",
    "        all_features = pd.concat([class_data[[col for col in class_data.columns if col not in dummy_vars]], dummyfeatures], axis = 1)\n",
    "        all_features.to_csv('data/final_RNN.csv')\n",
    "    else:\n",
    "        all_features = pd.concat([class_data[[col for col in class_data.columns if col not in dummy_vars]], dummyfeatures], axis = 1).iloc[:,2:]\n",
    "        all_features.to_csv('data/final.csv')\n",
    "\n",
    "create_dummies('data/imputed_data_v2.csv')"
   ]
  },
  {
   "cell_type": "code",
   "execution_count": null,
   "metadata": {},
   "outputs": [],
   "source": [
    "# RNN\n",
    "\n",
    "create_dummies(\"data/{}.csv\".format(imputation))\n",
    "\n",
    "g = all_features.groupby('ID').cumcount()\n",
    "L = (df.set_index(['group',g])\n",
    "       .unstack(fill_value=0)\n",
    "       .stack().groupby(level=0)\n",
    "       .apply(lambda x: x.values.tolist())\n",
    "       .tolist())\n"
   ]
  }
 ],
 "metadata": {
  "language_info": {
   "name": "python"
  },
  "orig_nbformat": 4
 },
 "nbformat": 4,
 "nbformat_minor": 2
}
