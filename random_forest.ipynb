{
 "cells": [
  {
   "cell_type": "code",
   "execution_count": 5,
   "metadata": {},
   "outputs": [
    {
     "data": {
      "text/plain": [
       "2"
      ]
     },
     "execution_count": 5,
     "metadata": {},
     "output_type": "execute_result"
    }
   ],
   "source": [
    "sum(y == 3)"
   ]
  },
  {
   "cell_type": "code",
   "execution_count": 6,
   "metadata": {},
   "outputs": [
    {
     "name": "stdout",
     "output_type": "stream",
     "text": [
      "Accuracy: 0.5844504021447721\n",
      "Average depth: 19.79\n",
      "Max depth: 30\n",
      "Min depth: 14\n",
      "Numer of trees: 100\n"
     ]
    }
   ],
   "source": [
    "# import required packages\n",
    "import pandas as pd\n",
    "import numpy as np\n",
    "\n",
    "# Modelling\n",
    "from imblearn.over_sampling import SMOTE\n",
    "from sklearn.ensemble import RandomForestClassifier\n",
    "from sklearn.metrics import accuracy_score, confusion_matrix, precision_score, recall_score, ConfusionMatrixDisplay\n",
    "from sklearn.model_selection import RandomizedSearchCV, train_test_split\n",
    "from scipy.stats import randint\n",
    "\n",
    "# Tree Visualisation\n",
    "from sklearn.tree import export_graphviz\n",
    "from IPython.display import Image\n",
    "\n",
    "final_features = pd.read_csv('data/final.csv')\n",
    "# final_features = final_features.drop(columns=['Unnamed: 0'])\n",
    "\n",
    "X = final_features.drop(columns=['next_day_mood', 'date'])\n",
    "\n",
    "# round the mood values to the nearest integer\n",
    "y = final_features['next_day_mood']\n",
    "y = y.round()\n",
    "\n",
    "# Split the data into training and test sets\n",
    "X_train, X_test, y_train, y_test = train_test_split(X, y, test_size=0.3)\n",
    "\n",
    "# Oversampling the data to create balanced data using SMOTE\n",
    "sampling_dict = {3: 20,\n",
    "                 4: 20}\n",
    "oversample = SMOTE(sampling_strategy=sampling_dict, k_neighbors=1)\n",
    "X_train, y_train = oversample.fit_resample(X_train, y_train)\n",
    "\n",
    "sampling_dict = {3: 50,\n",
    "                4: 50,\n",
    "                5: 150,\n",
    "                6: 200,\n",
    "                7: sum(y_train == 7),\n",
    "                8: sum(y_train == 8),\n",
    "                9: 150}\n",
    "oversample = SMOTE(sampling_strategy=sampling_dict, k_neighbors=5)\n",
    "X_train, y_train = oversample.fit_resample(X_train, y_train)\n",
    "\n",
    "## FITTING THE MODEL\n",
    "# Create a random forest classifier\n",
    "rf = RandomForestClassifier()\n",
    "rf.fit(X_train, y_train)\n",
    "\n",
    "\n",
    "# Predict the labels of the test set and test accuracy\n",
    "y_pred = rf.predict(X_test)\n",
    "print(f\"Accuracy: {accuracy_score(y_test, y_pred)}\")\n",
    "\n",
    "# print average, max and minimum depth of the trees\n",
    "print(f\"Average depth: {np.mean([estimator.tree_.max_depth for estimator in rf.estimators_])}\")\n",
    "print(f\"Max depth: {np.max([estimator.tree_.max_depth for estimator in rf.estimators_])}\")\n",
    "print(f\"Min depth: {np.min([estimator.tree_.max_depth for estimator in rf.estimators_])}\")\n",
    "print(f\"Numer of trees: {len(rf.estimators_)}\")\n"
   ]
  },
  {
   "cell_type": "code",
   "execution_count": 16,
   "metadata": {},
   "outputs": [
    {
     "name": "stdout",
     "output_type": "stream",
     "text": [
      "366\n",
      "68\n",
      "213\n",
      "84\n"
     ]
    },
    {
     "data": {
      "image/png": "[encoded data removed]",
      "text/plain": [
       "<Figure size 432x288 with 1 Axes>"
      ]
     },
     "metadata": {
      "needs_background": "light"
     },
     "output_type": "display_data"
    }
   ],
   "source": [
    "import matplotlib.pyplot as plt\n",
    "import math\n",
    "\n",
    "y_pred = y_pred.astype('int')\n",
    "\n",
    "#plt.hist(y_pred)\n",
    "\n",
    "plt.hist(y)\n",
    "\n",
    "print(len(y_pred))\n",
    "print(sum(y_pred == 6))\n",
    "print(sum(y_pred == 7))\n",
    "print(sum(y_pred == 8))\n",
    "\n"
   ]
  }
 ],
 "metadata": {
  "kernelspec": {
   "display_name": "Python 3.9.13 ('proglab')",
   "language": "python",
   "name": "python3"
  },
  "language_info": {
   "codemirror_mode": {
    "name": "ipython",
    "version": 3
   },
   "file_extension": ".py",
   "mimetype": "text/x-python",
   "name": "python",
   "nbconvert_exporter": "python",
   "pygments_lexer": "ipython3",
   "version": "3.9.13"
  },
  "orig_nbformat": 4,
  "vscode": {
   "interpreter": {
    "hash": "1bcf3da276c97759adee37616d71f2de46e3bdfda2fde9d88beae34204a9243a"
   }
  }
 },
 "nbformat": 4,
 "nbformat_minor": 2
}
